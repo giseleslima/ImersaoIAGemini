{
  "nbformat": 4,
  "nbformat_minor": 0,
  "metadata": {
    "colab": {
      "provenance": [],
      "authorship_tag": "ABX9TyO7hF1yrOeQkrbVBCixDrte",
      "include_colab_link": true
    },
    "kernelspec": {
      "name": "python3",
      "display_name": "Python 3"
    },
    "language_info": {
      "name": "python"
    }
  },
  "cells": [
    {
      "cell_type": "markdown",
      "metadata": {
        "id": "view-in-github",
        "colab_type": "text"
      },
      "source": [
        "<a href=\"https://colab.research.google.com/github/giseleslima/ImersaoIAGemini/blob/main/MasterClass_Python_Imers%C3%A3oIA.ipynb\" target=\"_parent\"><img src=\"https://colab.research.google.com/assets/colab-badge.svg\" alt=\"Open In Colab\"/></a>"
      ]
    },
    {
      "cell_type": "markdown",
      "source": [
        "Condicionais"
      ],
      "metadata": {
        "id": "EX91XaLBQcYc"
      }
    },
    {
      "cell_type": "code",
      "source": [
        "idade = input (\"Digite sua idade: \")\n",
        "if int(idade) >= 18:\n",
        "  print(\"Você é maior de idade\")\n",
        "  print(\"Você pode entrar\")\n",
        "if int(idade) < 18:\n",
        "  print(\"Você é menor de idade\")\n",
        "  print(\"Você não pode entrar\")\n"
      ],
      "metadata": {
        "colab": {
          "base_uri": "https://localhost:8080/"
        },
        "id": "uc8M4n3BQfBO",
        "outputId": "02d90bdb-597d-4744-e44e-d87ec7d691d1"
      },
      "execution_count": null,
      "outputs": [
        {
          "output_type": "stream",
          "name": "stdout",
          "text": [
            "Digite sua idade: 18\n",
            "Você é maior de idade\n",
            "Você pode entrar\n"
          ]
        }
      ]
    },
    {
      "cell_type": "code",
      "source": [
        "idade = input (\"Digite sua idade: \")\n",
        "if int(idade) >= 18:\n",
        "  print(\"Você é maior de idade\")\n",
        "  print(\"Você pode entrar\")\n",
        "else:\n",
        "  print(\"Você é menor de idade\")\n",
        "  print(\"Você não pode entrar\")"
      ],
      "metadata": {
        "colab": {
          "base_uri": "https://localhost:8080/"
        },
        "id": "Hxhni2TVRwDM",
        "outputId": "c8a976aa-a1cb-47b4-9b94-5bf4d3425500"
      },
      "execution_count": null,
      "outputs": [
        {
          "output_type": "stream",
          "name": "stdout",
          "text": [
            "Digite sua idade: 19\n",
            "Você é maior de idade\n",
            "Você pode entrar\n"
          ]
        }
      ]
    },
    {
      "cell_type": "markdown",
      "source": [
        "\n",
        "\n",
        "> Função\n",
        "\n",
        "\n"
      ],
      "metadata": {
        "id": "1kLEdNkWR6cV"
      }
    },
    {
      "cell_type": "code",
      "source": [
        "def verificar_idade(idade):\n",
        "  if int(idade) >= 18:\n",
        "    print(\"Você é maior de idade\")\n",
        "    print(\"Você pode entrar\")\n",
        "  else:\n",
        "    print(\"Você é menor de idade\")\n",
        "    print(\"Você não pode entrar\")"
      ],
      "metadata": {
        "id": "yPSQzkJ1R3lW"
      },
      "execution_count": null,
      "outputs": []
    },
    {
      "cell_type": "code",
      "source": [
        "idade = input (\"Digite sua idade: \")\n",
        "verificar_idade(idade)"
      ],
      "metadata": {
        "colab": {
          "base_uri": "https://localhost:8080/"
        },
        "id": "3qedE_0VSmPh",
        "outputId": "cfd01032-7fd4-4868-94de-dbf721a1fabe"
      },
      "execution_count": null,
      "outputs": [
        {
          "output_type": "stream",
          "name": "stdout",
          "text": [
            "Digite sua idade: 17\n",
            "Você é menor de idade\n",
            "Você não pode entrar\n"
          ]
        }
      ]
    },
    {
      "cell_type": "markdown",
      "source": [
        "Loop"
      ],
      "metadata": {
        "id": "WZZV4VPCTQ5S"
      }
    },
    {
      "cell_type": "code",
      "source": [
        "from ast import While\n",
        "contador = 0\n",
        "\n",
        "while contador <= 10:\n",
        "  print(f\"Contagem : {contador}\")\n",
        "  contador = contador + 1\n",
        "print(\"Fim da contagem\")"
      ],
      "metadata": {
        "colab": {
          "base_uri": "https://localhost:8080/"
        },
        "id": "o_z6t8xgS1ed",
        "outputId": "904090f7-788d-4327-f3ee-e07694e316c1"
      },
      "execution_count": null,
      "outputs": [
        {
          "output_type": "stream",
          "name": "stdout",
          "text": [
            "Contagem : 0\n",
            "Contagem : 1\n",
            "Contagem : 2\n",
            "Contagem : 3\n",
            "Contagem : 4\n",
            "Contagem : 5\n",
            "Contagem : 6\n",
            "Contagem : 7\n",
            "Contagem : 8\n",
            "Contagem : 9\n",
            "Contagem : 10\n",
            "Fim da contagem\n"
          ]
        }
      ]
    },
    {
      "cell_type": "code",
      "source": [
        "modelos = [\"2.0 Flash\",\"2.5 Pro\",\"2.5 Flash\"]\n",
        "for modelo in modelos:\n",
        "  print(modelo)\n"
      ],
      "metadata": {
        "colab": {
          "base_uri": "https://localhost:8080/"
        },
        "id": "oPh_KJhrUtWp",
        "outputId": "34ae232b-f221-4dd4-ddca-3811e794e1bd"
      },
      "execution_count": null,
      "outputs": [
        {
          "output_type": "stream",
          "name": "stdout",
          "text": [
            "2.0 Flash\n",
            "2.5 Pro\n",
            "2.5 Flash\n"
          ]
        }
      ]
    },
    {
      "cell_type": "markdown",
      "source": [
        "Entrada de dados"
      ],
      "metadata": {
        "id": "21mt7jPNPMrS"
      }
    },
    {
      "cell_type": "code",
      "source": [
        "nome = input (\"Digite seu nome: \")\n",
        "print (f\"Bem vinda a experiência Python {nome}\")"
      ],
      "metadata": {
        "colab": {
          "base_uri": "https://localhost:8080/"
        },
        "id": "3L79vdHSPQsq",
        "outputId": "33b3698e-844d-4df1-c55d-46de3e063cdb"
      },
      "execution_count": null,
      "outputs": [
        {
          "output_type": "stream",
          "name": "stdout",
          "text": [
            "Digite seu nome: Gisele\n",
            "Bem vinda a experiência Python Gisele\n"
          ]
        }
      ]
    },
    {
      "cell_type": "markdown",
      "source": [
        "Variáveis"
      ],
      "metadata": {
        "id": "6fuuoGnDNQ4Y"
      }
    },
    {
      "cell_type": "code",
      "source": [
        "primeira_operacao = 2 + 6"
      ],
      "metadata": {
        "id": "52etXf-uMaA1"
      },
      "execution_count": null,
      "outputs": []
    },
    {
      "cell_type": "code",
      "source": [
        "segunda_operacao = 8 - 5"
      ],
      "metadata": {
        "id": "z8gzeZRIMqJX"
      },
      "execution_count": null,
      "outputs": []
    },
    {
      "cell_type": "code",
      "source": [
        "multiplicação = primeira_operacao * segunda_operacao"
      ],
      "metadata": {
        "id": "KKG75FScN7em"
      },
      "execution_count": null,
      "outputs": []
    },
    {
      "cell_type": "code",
      "source": [
        " exponencial = 2 ** 3\n",
        " print (exponencial)"
      ],
      "metadata": {
        "colab": {
          "base_uri": "https://localhost:8080/"
        },
        "id": "suJNtrY-O5Nf",
        "outputId": "64bc9ab6-e701-4259-bfc7-7d5392715f33"
      },
      "execution_count": null,
      "outputs": [
        {
          "output_type": "stream",
          "name": "stdout",
          "text": [
            "8\n"
          ]
        }
      ]
    },
    {
      "cell_type": "markdown",
      "source": [
        "Mostrar resultado na tela"
      ],
      "metadata": {
        "id": "HQoef8e2NUSh"
      }
    },
    {
      "cell_type": "code",
      "source": [
        "print (primeira_operacao * segunda_operacao)"
      ],
      "metadata": {
        "colab": {
          "base_uri": "https://localhost:8080/"
        },
        "id": "9iYCIb3KMyJj",
        "outputId": "4ef21905-8269-49ec-8520-1ef23e6645d5"
      },
      "execution_count": null,
      "outputs": [
        {
          "output_type": "stream",
          "name": "stdout",
          "text": [
            "24\n"
          ]
        }
      ]
    },
    {
      "cell_type": "code",
      "source": [
        "print (segunda_operacao + primeira_operacao)"
      ],
      "metadata": {
        "colab": {
          "base_uri": "https://localhost:8080/"
        },
        "id": "EkNYFj-PM_gt",
        "outputId": "280efb42-e320-4c22-c3c6-c1b61a3f29e0"
      },
      "execution_count": null,
      "outputs": [
        {
          "output_type": "stream",
          "name": "stdout",
          "text": [
            "11\n"
          ]
        }
      ]
    },
    {
      "cell_type": "code",
      "source": [
        "print (\"Hello Word\")"
      ],
      "metadata": {
        "colab": {
          "base_uri": "https://localhost:8080/"
        },
        "id": "jGyz3VzPNgAD",
        "outputId": "4abc9b36-58b9-4c93-e4d9-7bbc72248093"
      },
      "execution_count": null,
      "outputs": [
        {
          "output_type": "stream",
          "name": "stdout",
          "text": [
            "Hello Word\n"
          ]
        }
      ]
    },
    {
      "cell_type": "code",
      "source": [
        "print (multiplicação)"
      ],
      "metadata": {
        "colab": {
          "base_uri": "https://localhost:8080/"
        },
        "id": "iUBKV2_-NlV1",
        "outputId": "202da658-0cc9-49cb-b40a-821f330f8427"
      },
      "execution_count": null,
      "outputs": [
        {
          "output_type": "stream",
          "name": "stdout",
          "text": [
            "24\n"
          ]
        }
      ]
    },
    {
      "cell_type": "code",
      "source": [
        "print (\"O resultado da multipliação é \", multiplicação )"
      ],
      "metadata": {
        "colab": {
          "base_uri": "https://localhost:8080/"
        },
        "id": "uyLilWoeOBsK",
        "outputId": "3d1a883d-ace7-42b2-a207-2cafdf4a0298"
      },
      "execution_count": null,
      "outputs": [
        {
          "output_type": "stream",
          "name": "stdout",
          "text": [
            "O resultado da multipliação é  24\n"
          ]
        }
      ]
    },
    {
      "cell_type": "markdown",
      "source": [
        "Função \"f\" chama \"F string\""
      ],
      "metadata": {
        "id": "NV186ql1Ogmz"
      }
    },
    {
      "cell_type": "code",
      "source": [
        "print (f\"O resultado da multiplicação é {multiplicação}\")"
      ],
      "metadata": {
        "colab": {
          "base_uri": "https://localhost:8080/"
        },
        "id": "pKLESZeJOPgI",
        "outputId": "519905cb-a415-49d3-9ec8-171ec4bc045b"
      },
      "execution_count": null,
      "outputs": [
        {
          "output_type": "stream",
          "name": "stdout",
          "text": [
            "O resultado da multiplicação é 24\n"
          ]
        }
      ]
    },
    {
      "cell_type": "markdown",
      "source": [],
      "metadata": {
        "id": "4rZ19AFxOkaO"
      }
    },
    {
      "cell_type": "markdown",
      "source": [
        "Operações Matematicas"
      ],
      "metadata": {
        "id": "pPqqqUzdLo16"
      }
    },
    {
      "cell_type": "code",
      "source": [
        "9 / 2"
      ],
      "metadata": {
        "colab": {
          "base_uri": "https://localhost:8080/"
        },
        "id": "8E99jO1gMJeo",
        "outputId": "6dce2863-4e50-4f95-c2a1-b1e3c1f38c65"
      },
      "execution_count": null,
      "outputs": [
        {
          "output_type": "execute_result",
          "data": {
            "text/plain": [
              "4.5"
            ]
          },
          "metadata": {},
          "execution_count": 5
        }
      ]
    },
    {
      "cell_type": "code",
      "source": [
        "9 / 3"
      ],
      "metadata": {
        "colab": {
          "base_uri": "https://localhost:8080/"
        },
        "id": "sB3Zt_t2L8Q4",
        "outputId": "bebbf3ff-9be4-47a7-d893-302c85a4f8d9"
      },
      "execution_count": null,
      "outputs": [
        {
          "output_type": "execute_result",
          "data": {
            "text/plain": [
              "3.0"
            ]
          },
          "metadata": {},
          "execution_count": 4
        }
      ]
    },
    {
      "cell_type": "code",
      "source": [
        "9 - 4"
      ],
      "metadata": {
        "colab": {
          "base_uri": "https://localhost:8080/"
        },
        "id": "09rxToy-LvNF",
        "outputId": "73ea8afe-4360-4974-cd5d-a5c579ab2641"
      },
      "execution_count": null,
      "outputs": [
        {
          "output_type": "execute_result",
          "data": {
            "text/plain": [
              "5"
            ]
          },
          "metadata": {},
          "execution_count": 2
        }
      ]
    },
    {
      "cell_type": "code",
      "source": [
        "7 * 5"
      ],
      "metadata": {
        "colab": {
          "base_uri": "https://localhost:8080/"
        },
        "id": "YiaV5FOuLy-T",
        "outputId": "b406369b-cee9-4e3b-898e-4e61c0957c1b"
      },
      "execution_count": null,
      "outputs": [
        {
          "output_type": "execute_result",
          "data": {
            "text/plain": [
              "35"
            ]
          },
          "metadata": {},
          "execution_count": 3
        }
      ]
    },
    {
      "cell_type": "code",
      "execution_count": null,
      "metadata": {
        "colab": {
          "base_uri": "https://localhost:8080/"
        },
        "id": "af7GRchiKGUT",
        "outputId": "715c1020-5225-46ea-a242-40b451ccc794"
      },
      "outputs": [
        {
          "output_type": "execute_result",
          "data": {
            "text/plain": [
              "9"
            ]
          },
          "metadata": {},
          "execution_count": 1
        }
      ],
      "source": [
        "2 + 7"
      ]
    }
  ]
}